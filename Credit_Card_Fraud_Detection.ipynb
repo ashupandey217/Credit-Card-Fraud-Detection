{
  "nbformat": 4,
  "nbformat_minor": 0,
  "metadata": {
    "colab": {
      "name": "Credit_Card_Fraud_Detection.ipynb",
      "provenance": [],
      "authorship_tag": "ABX9TyMRRSocQqD1j7DHuPZmn6a6",
      "include_colab_link": true
    },
    "kernelspec": {
      "name": "python3",
      "display_name": "Python 3"
    },
    "language_info": {
      "name": "python"
    }
  },
  "cells": [
    {
      "cell_type": "markdown",
      "metadata": {
        "id": "view-in-github",
        "colab_type": "text"
      },
      "source": [
        "<a href=\"https://colab.research.google.com/github/ashupandey217/Credit-Card-Fraud-Detection/blob/main/Credit_Card_Fraud_Detection.ipynb\" target=\"_parent\"><img src=\"https://colab.research.google.com/assets/colab-badge.svg\" alt=\"Open In Colab\"/></a>"
      ]
    },
    {
      "cell_type": "markdown",
      "metadata": {
        "id": "1iqNvIFlDzis"
      },
      "source": [
        "**Importing the dependencies**"
      ]
    },
    {
      "cell_type": "code",
      "metadata": {
        "id": "oF0aYy3bD8Lw"
      },
      "source": [
        "import numpy as np\n",
        "import pandas as pd\n",
        "from sklearn.model_selection import train_test_split\n",
        "from sklearn.linear_model import LogisticRegression\n",
        "from sklearn.metrics import accuracy_score"
      ],
      "execution_count": 3,
      "outputs": []
    },
    {
      "cell_type": "code",
      "metadata": {
        "id": "4H5PpALdEhan"
      },
      "source": [
        "#importing the dataset\n",
        "cc_data = pd.read_csv('/content/creditcard.csv')"
      ],
      "execution_count": 4,
      "outputs": []
    },
    {
      "cell_type": "code",
      "metadata": {
        "id": "RrG2PbJjLInv"
      },
      "source": [
        "cc_data.head()"
      ],
      "execution_count": null,
      "outputs": []
    },
    {
      "cell_type": "code",
      "metadata": {
        "id": "ZFm8MkjBLO7e"
      },
      "source": [
        "cc_data.tail()"
      ],
      "execution_count": null,
      "outputs": []
    },
    {
      "cell_type": "code",
      "metadata": {
        "id": "b7HJIu3sLSWv"
      },
      "source": [
        "cc_data.info()"
      ],
      "execution_count": null,
      "outputs": []
    },
    {
      "cell_type": "code",
      "metadata": {
        "id": "t2cITIsyLfzb"
      },
      "source": [
        "#checking if any missing value\n",
        "cc_data.isnull().sum()"
      ],
      "execution_count": null,
      "outputs": []
    },
    {
      "cell_type": "code",
      "metadata": {
        "id": "YYa3Y9K5LqdD"
      },
      "source": [
        "# distribution of legit transactions & fraudulent transactions\n",
        "cc_data['Class'].value_counts()"
      ],
      "execution_count": null,
      "outputs": []
    },
    {
      "cell_type": "markdown",
      "metadata": {
        "id": "aBVoZmLnL0AY"
      },
      "source": [
        "**This data set is highly unbalanced**\n",
        "\n",
        "0 -> Legit\n",
        "1 -> Fraud"
      ]
    },
    {
      "cell_type": "code",
      "metadata": {
        "id": "zgiVeDhsL_pe"
      },
      "source": [
        "#now separating the data \n",
        "legit = cc_data[cc_data.Class == 0]\n",
        "fraud = cc_data[cc_data.Class == 1]"
      ],
      "execution_count": 12,
      "outputs": []
    },
    {
      "cell_type": "code",
      "metadata": {
        "colab": {
          "base_uri": "https://localhost:8080/"
        },
        "id": "sy-a7wxaMdvT",
        "outputId": "26e5eb37-13f2-4ee2-bdee-4a873567c89f"
      },
      "source": [
        "print(legit.shape)\n",
        "print(fraud.shape)"
      ],
      "execution_count": 13,
      "outputs": [
        {
          "output_type": "stream",
          "text": [
            "(284315, 31)\n",
            "(492, 31)\n"
          ],
          "name": "stdout"
        }
      ]
    },
    {
      "cell_type": "code",
      "metadata": {
        "id": "DAli10C-Mh4S"
      },
      "source": [
        "#statistical measures of the data\n",
        "legit.Amount.describe()"
      ],
      "execution_count": null,
      "outputs": []
    },
    {
      "cell_type": "code",
      "metadata": {
        "id": "gExjGSZCMowA"
      },
      "source": [
        "fraud.Amount.describe()"
      ],
      "execution_count": null,
      "outputs": []
    },
    {
      "cell_type": "code",
      "metadata": {
        "id": "twLFJ7_DMs4a"
      },
      "source": [
        "#compare both transactions\n",
        "cc_data.groupby('Class').mean()"
      ],
      "execution_count": null,
      "outputs": []
    },
    {
      "cell_type": "markdown",
      "metadata": {
        "id": "JPtlmh9pM4Qp"
      },
      "source": [
        "**Performing under-sampling to balance the data**"
      ]
    },
    {
      "cell_type": "code",
      "metadata": {
        "id": "_q_3brl6M-z5"
      },
      "source": [
        "legit_sample = legit.sample(n=492)"
      ],
      "execution_count": 17,
      "outputs": []
    },
    {
      "cell_type": "code",
      "metadata": {
        "id": "MRQPiNjZNDdi"
      },
      "source": [
        "#concatenating the two dataframes\n",
        "new_cc_data = pd.concat([legit_sample, fraud], axis=0)"
      ],
      "execution_count": 18,
      "outputs": []
    },
    {
      "cell_type": "code",
      "metadata": {
        "id": "BeSBNTWfNUjk"
      },
      "source": [
        "new_cc_data.head()"
      ],
      "execution_count": null,
      "outputs": []
    },
    {
      "cell_type": "code",
      "metadata": {
        "id": "oRjdelFiNbZP"
      },
      "source": [
        "new_cc_data.tail()"
      ],
      "execution_count": null,
      "outputs": []
    },
    {
      "cell_type": "code",
      "metadata": {
        "id": "JAG2zbLjNdQx"
      },
      "source": [
        "new_cc_data['Class'].value_counts()"
      ],
      "execution_count": null,
      "outputs": []
    },
    {
      "cell_type": "code",
      "metadata": {
        "id": "rDHYXfPrNmoz"
      },
      "source": [
        "new_cc_data.groupby('Class').mean()"
      ],
      "execution_count": null,
      "outputs": []
    },
    {
      "cell_type": "markdown",
      "metadata": {
        "id": "_qAH6swQPXfE"
      },
      "source": [
        "**Splitting the data into Features & Targets**"
      ]
    },
    {
      "cell_type": "code",
      "metadata": {
        "id": "t6BE4V1EPYzk"
      },
      "source": [
        "X = new_cc_data.drop(columns='Class', axis=1)\n",
        "Y = new_cc_data['Class']"
      ],
      "execution_count": 26,
      "outputs": []
    },
    {
      "cell_type": "code",
      "metadata": {
        "id": "giAPCvKZPm8q"
      },
      "source": [
        "print(X)"
      ],
      "execution_count": null,
      "outputs": []
    },
    {
      "cell_type": "code",
      "metadata": {
        "id": "AerHhcwbPoYB"
      },
      "source": [
        "print(Y)"
      ],
      "execution_count": null,
      "outputs": []
    },
    {
      "cell_type": "code",
      "metadata": {
        "id": "xlRTy5tEPs9v"
      },
      "source": [
        "#Split the data into Training data & Testing Data\n",
        "X_train, X_test, Y_train, Y_test = train_test_split(X, Y, test_size=0.2, stratify=Y, random_state=2)"
      ],
      "execution_count": 30,
      "outputs": []
    },
    {
      "cell_type": "code",
      "metadata": {
        "id": "4KhfQeZTP2ap"
      },
      "source": [
        "#modelling the data using logistic regression\n",
        "model = LogisticRegression()\n",
        "model.fit(X_train, Y_train)"
      ],
      "execution_count": null,
      "outputs": []
    },
    {
      "cell_type": "markdown",
      "metadata": {
        "id": "V4sxOp81QMzW"
      },
      "source": [
        "**Model Evaluation** "
      ]
    },
    {
      "cell_type": "code",
      "metadata": {
        "id": "rSeERToiQQ2g"
      },
      "source": [
        "#accuracy on training data\n",
        "X_train_prediction = model.predict(X_train)\n",
        "training_data_accuracy = accuracy_score(X_train_prediction, Y_train)"
      ],
      "execution_count": 33,
      "outputs": []
    },
    {
      "cell_type": "code",
      "metadata": {
        "colab": {
          "base_uri": "https://localhost:8080/"
        },
        "id": "fQ5MvwuSQkZG",
        "outputId": "9513f585-d500-430f-b8d6-c0f9398c7e66"
      },
      "source": [
        "print('Accuracy on Training data : ', training_data_accuracy)"
      ],
      "execution_count": 34,
      "outputs": [
        {
          "output_type": "stream",
          "text": [
            "Accuracy on Training data :  0.940279542566709\n"
          ],
          "name": "stdout"
        }
      ]
    },
    {
      "cell_type": "code",
      "metadata": {
        "id": "3b_u9gzyQppx"
      },
      "source": [
        "#accuracy on test data\n",
        "X_test_prediction = model.predict(X_test)\n",
        "test_data_accuracy = accuracy_score(X_test_prediction, Y_test)"
      ],
      "execution_count": 35,
      "outputs": []
    },
    {
      "cell_type": "code",
      "metadata": {
        "colab": {
          "base_uri": "https://localhost:8080/"
        },
        "id": "QM82GZ2tQyVA",
        "outputId": "7aacc623-e5b0-4404-a9b5-4d2aa0704cad"
      },
      "source": [
        "print('Accuracy score on Test Data : ', test_data_accuracy)"
      ],
      "execution_count": 36,
      "outputs": [
        {
          "output_type": "stream",
          "text": [
            "Accuracy score on Test Data :  0.949238578680203\n"
          ],
          "name": "stdout"
        }
      ]
    }
  ]
}